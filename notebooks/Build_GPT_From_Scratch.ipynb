{
  "nbformat": 4,
  "nbformat_minor": 0,
  "metadata": {
    "colab": {
      "provenance": [],
      "authorship_tag": "ABX9TyOI2W4c407diDN85ZwQWEkA",
      "include_colab_link": true
    },
    "kernelspec": {
      "name": "python3",
      "display_name": "Python 3"
    },
    "language_info": {
      "name": "python"
    }
  },
  "cells": [
    {
      "cell_type": "markdown",
      "metadata": {
        "id": "view-in-github",
        "colab_type": "text"
      },
      "source": [
        "<a href=\"https://colab.research.google.com/github/JamorMoussa/Build-GPT-From-Scratch/blob/main/notebooks/Build_GPT_From_Scratch.ipynb\" target=\"_parent\"><img src=\"https://colab.research.google.com/assets/colab-badge.svg\" alt=\"Open In Colab\"/></a>"
      ]
    },
    {
      "cell_type": "markdown",
      "source": [
        "# Building a GPT from scratch"
      ],
      "metadata": {
        "id": "RNnh9gDk7pDE"
      }
    },
    {
      "cell_type": "markdown",
      "source": [
        "**GPT** stands for **Generative Pre-Trained Transformer**, a probabilistic system based on the **Transformer** architecture. This architecture was introduced in the renowned 2017 paper by Google, [Attention is All You Need](https://arxiv.org/pdf/1706.03762). The paper proposed the **Transformer** model for machine translation tasks."
      ],
      "metadata": {
        "id": "ViiwNSQ48RMA"
      }
    },
    {
      "cell_type": "markdown",
      "source": [
        "This notebook contains notes for **Andrej Karpathy**'s tutorial, titled [Let's Build GPT: From Scratch, in Code, Spelled Out](https://www.youtube.com/watch?v=kCc8FmEb1nY) on his YouTube channel."
      ],
      "metadata": {
        "id": "mlA2cwqx-DzK"
      }
    },
    {
      "cell_type": "markdown",
      "source": [
        "## Let's Prepare The Dataset"
      ],
      "metadata": {
        "id": "IH4qD7GSANpo"
      }
    },
    {
      "cell_type": "markdown",
      "source": [
        "In this tutorial, we use the Tiny Shakespeare dataset. It is a text file of 1.06 MB in size, which is a concatenation of all the works of [William Shakespeare](https://en.wikipedia.org/wiki/William_Shakespeare)."
      ],
      "metadata": {
        "id": "gGIwMY4iAjCF"
      }
    },
    {
      "cell_type": "code",
      "source": [
        "# Let's download the dataset first.\n",
        "\n",
        "!wget https://raw.githubusercontent.com/karpathy/char-rnn/master/data/tinyshakespeare/input.txt"
      ],
      "metadata": {
        "colab": {
          "base_uri": "https://localhost:8080/"
        },
        "id": "eAmT5lsMA4Rf",
        "outputId": "e1d89015-0f76-4559-b381-c5ebefa1bad6"
      },
      "execution_count": 1,
      "outputs": [
        {
          "output_type": "stream",
          "name": "stdout",
          "text": [
            "--2024-06-05 20:08:06--  https://raw.githubusercontent.com/karpathy/char-rnn/master/data/tinyshakespeare/input.txt\n",
            "Resolving raw.githubusercontent.com (raw.githubusercontent.com)... 185.199.109.133, 185.199.108.133, 185.199.111.133, ...\n",
            "Connecting to raw.githubusercontent.com (raw.githubusercontent.com)|185.199.109.133|:443... connected.\n",
            "HTTP request sent, awaiting response... 200 OK\n",
            "Length: 1115394 (1.1M) [text/plain]\n",
            "Saving to: ‘input.txt’\n",
            "\n",
            "input.txt           100%[===================>]   1.06M  5.46MB/s    in 0.2s    \n",
            "\n",
            "2024-06-05 20:08:07 (5.46 MB/s) - ‘input.txt’ saved [1115394/1115394]\n",
            "\n"
          ]
        }
      ]
    },
    {
      "cell_type": "markdown",
      "source": [
        "Next, let's read the dataset and print the 1000 first characters."
      ],
      "metadata": {
        "id": "TTyfbJg1C626"
      }
    },
    {
      "cell_type": "code",
      "source": [
        "dataset_path = \"/content/input.txt\"\n",
        "\n",
        "with open(dataset_path, \"r\", encoding=\"utf-8\") as f:\n",
        "  text = f.read()"
      ],
      "metadata": {
        "id": "b_44kILKDC2n"
      },
      "execution_count": 4,
      "outputs": []
    },
    {
      "cell_type": "code",
      "source": [
        "print(text[:1000])"
      ],
      "metadata": {
        "colab": {
          "base_uri": "https://localhost:8080/"
        },
        "id": "Z5DslCgfDmlN",
        "outputId": "92d5edb6-77d4-486f-e660-a6ad6f9b3ec5"
      },
      "execution_count": 6,
      "outputs": [
        {
          "output_type": "stream",
          "name": "stdout",
          "text": [
            "First Citizen:\n",
            "Before we proceed any further, hear me speak.\n",
            "\n",
            "All:\n",
            "Speak, speak.\n",
            "\n",
            "First Citizen:\n",
            "You are all resolved rather to die than to famish?\n",
            "\n",
            "All:\n",
            "Resolved. resolved.\n",
            "\n",
            "First Citizen:\n",
            "First, you know Caius Marcius is chief enemy to the people.\n",
            "\n",
            "All:\n",
            "We know't, we know't.\n",
            "\n",
            "First Citizen:\n",
            "Let us kill him, and we'll have corn at our own price.\n",
            "Is't a verdict?\n",
            "\n",
            "All:\n",
            "No more talking on't; let it be done: away, away!\n",
            "\n",
            "Second Citizen:\n",
            "One word, good citizens.\n",
            "\n",
            "First Citizen:\n",
            "We are accounted poor citizens, the patricians good.\n",
            "What authority surfeits on would relieve us: if they\n",
            "would yield us but the superfluity, while it were\n",
            "wholesome, we might guess they relieved us humanely;\n",
            "but they think we are too dear: the leanness that\n",
            "afflicts us, the object of our misery, is as an\n",
            "inventory to particularise their abundance; our\n",
            "sufferance is a gain to them Let us revenge this with\n",
            "our pikes, ere we become rakes: for the gods know I\n",
            "speak this in hunger for bread, not in thirst for revenge.\n",
            "\n",
            "\n"
          ]
        }
      ]
    },
    {
      "cell_type": "code",
      "source": [
        "# Let's print the lenght of dataset in characters:\n",
        "\n",
        "print(f\"length of dataset in characters: {len(text)}\")"
      ],
      "metadata": {
        "colab": {
          "base_uri": "https://localhost:8080/"
        },
        "id": "Nc0mV535DoxM",
        "outputId": "3d12df02-293c-420f-903d-2fb8d457b4f5"
      },
      "execution_count": 7,
      "outputs": [
        {
          "output_type": "stream",
          "name": "stdout",
          "text": [
            "length of dataset in characters: 1115394\n"
          ]
        }
      ]
    },
    {
      "cell_type": "markdown",
      "source": [
        "The next step is to build the vocabulary by finding the unique characters present in the text. Then, we build an `encoder` that maps characters to integers and a `decoder` that maps integers back to characters."
      ],
      "metadata": {
        "id": "DIgonZLvEdWj"
      }
    },
    {
      "cell_type": "code",
      "source": [
        "chars = sorted(list(set(text)))\n",
        "print(\"\".join(chars))\n",
        "len(chars)"
      ],
      "metadata": {
        "colab": {
          "base_uri": "https://localhost:8080/"
        },
        "id": "sDd-bRarE7Mi",
        "outputId": "8088eb4c-36e3-450d-961d-60b0d0b56cb1"
      },
      "execution_count": 11,
      "outputs": [
        {
          "output_type": "stream",
          "name": "stdout",
          "text": [
            "\n",
            " !$&',-.3:;?ABCDEFGHIJKLMNOPQRSTUVWXYZabcdefghijklmnopqrstuvwxyz\n"
          ]
        },
        {
          "output_type": "execute_result",
          "data": {
            "text/plain": [
              "65"
            ]
          },
          "metadata": {},
          "execution_count": 11
        }
      ]
    },
    {
      "cell_type": "markdown",
      "source": [
        "The dataset contains 65 unique characters. Let's build the `encode` function, which maps a string to a list of integers, and the `decode` function, which performs the inverse operation."
      ],
      "metadata": {
        "id": "HPHPWoZvHIFd"
      }
    },
    {
      "cell_type": "code",
      "source": [
        "stoi = {char: i for i, char in enumerate(chars)}\n",
        "itos = {i: char for i, char in enumerate(chars)}"
      ],
      "metadata": {
        "id": "wKkLFEWyGWor"
      },
      "execution_count": 21,
      "outputs": []
    },
    {
      "cell_type": "code",
      "source": [
        "encode = lambda s: [stoi[c] for c in s]\n",
        "decode = lambda l: \"\".join([itos[i] for i in l])\n",
        "\n",
        "hello_code = encode('hello')\n",
        "\n",
        "print(f\"the encode of 'hello' is {hello_code}\")\n",
        "print(f\"Let's decode it {decode(hello_code)}\")"
      ],
      "metadata": {
        "colab": {
          "base_uri": "https://localhost:8080/"
        },
        "id": "6l-TfbpDFlnA",
        "outputId": "45bc810e-e6c0-4779-ea73-3088db360159"
      },
      "execution_count": 23,
      "outputs": [
        {
          "output_type": "stream",
          "name": "stdout",
          "text": [
            "the encode of 'hello' is [46, 43, 50, 50, 53]\n",
            "Let's decode it hello\n"
          ]
        }
      ]
    },
    {
      "cell_type": "markdown",
      "source": [
        "In fact, this is a naive encoding strategy. However, in practice, we use sub-word encoders. For example, Google uses [SentencePiece](https://github.com/google/sentencepiece), an unsupervised text tokenizer. Another example is [Tiktoken](https://github.com/openai/tiktoken) from OpenAI, which is based on [Byte Pair Encoding (BPE)](https://en.wikipedia.org/wiki/Byte_pair_encoding). BPE is used by OpenAI in their models."
      ],
      "metadata": {
        "id": "TvY1JnxxJK7x"
      }
    },
    {
      "cell_type": "markdown",
      "source": [
        "Let's have an example using the `Tiktoken` tokenizer."
      ],
      "metadata": {
        "id": "vnoR0nxpK5Nj"
      }
    },
    {
      "cell_type": "code",
      "source": [
        "!pip install tiktoken"
      ],
      "metadata": {
        "id": "xXe6LxV1LfZK"
      },
      "execution_count": null,
      "outputs": []
    },
    {
      "cell_type": "code",
      "source": [
        "import tiktoken\n",
        "\n",
        "enc = tiktoken.get_encoding(\"gpt2\")\n",
        "print(f\"vocab size: {enc.n_vocab}\")"
      ],
      "metadata": {
        "colab": {
          "base_uri": "https://localhost:8080/"
        },
        "id": "6KY9IYtaJ2Ou",
        "outputId": "7abc2444-5110-437c-e627-b496a413854a"
      },
      "execution_count": 27,
      "outputs": [
        {
          "output_type": "stream",
          "name": "stdout",
          "text": [
            "vocab size: 50257\n"
          ]
        }
      ]
    },
    {
      "cell_type": "code",
      "source": [
        "enc.encode(\"hello enveryone\")"
      ],
      "metadata": {
        "colab": {
          "base_uri": "https://localhost:8080/"
        },
        "id": "_uzkQgrJLeTk",
        "outputId": "ba62aeea-f6f7-4905-a5f6-d39f8e004329"
      },
      "execution_count": 29,
      "outputs": [
        {
          "output_type": "execute_result",
          "data": {
            "text/plain": [
              "[31373, 551, 548, 505]"
            ]
          },
          "metadata": {},
          "execution_count": 29
        }
      ]
    },
    {
      "cell_type": "code",
      "source": [
        "[enc.decode([code]) for code in [31373, 551, 548, 505]]"
      ],
      "metadata": {
        "colab": {
          "base_uri": "https://localhost:8080/"
        },
        "id": "AsSurSSDLoYd",
        "outputId": "08c68b35-cbff-42f3-fc45-39c5f5c11a2a"
      },
      "execution_count": 33,
      "outputs": [
        {
          "output_type": "execute_result",
          "data": {
            "text/plain": [
              "['hello', ' en', 'very', 'one']"
            ]
          },
          "metadata": {},
          "execution_count": 33
        }
      ]
    },
    {
      "cell_type": "markdown",
      "source": [
        "So, for this tutorial, we will continue to use character encoding for simplicity. Now, it's time to encode the entire dataset using this encoder. Let's start using the `PyTorch` framework to work with tensors."
      ],
      "metadata": {
        "id": "qjLg8aZVMFHx"
      }
    },
    {
      "cell_type": "code",
      "source": [
        "import torch\n",
        "from torch.utils.data import random_split"
      ],
      "metadata": {
        "id": "N6BsfCARMTiN"
      },
      "execution_count": 38,
      "outputs": []
    },
    {
      "cell_type": "code",
      "source": [
        "data = torch.tensor(encode(text), dtype=torch.long)\n",
        "print(data.shape, data.dtype)"
      ],
      "metadata": {
        "colab": {
          "base_uri": "https://localhost:8080/"
        },
        "id": "8m_AN8dJOK8s",
        "outputId": "7f2f62d1-e005-451b-811c-b56982c1adf5"
      },
      "execution_count": 35,
      "outputs": [
        {
          "output_type": "stream",
          "name": "stdout",
          "text": [
            "torch.Size([1115394]) torch.int64\n"
          ]
        }
      ]
    },
    {
      "cell_type": "code",
      "source": [
        "data[:100]"
      ],
      "metadata": {
        "colab": {
          "base_uri": "https://localhost:8080/"
        },
        "id": "6YZJXyKoOSZD",
        "outputId": "a818a6d1-d5d3-44f7-a279-f9a8597a6cf7"
      },
      "execution_count": 37,
      "outputs": [
        {
          "output_type": "execute_result",
          "data": {
            "text/plain": [
              "tensor([18, 47, 56, 57, 58,  1, 15, 47, 58, 47, 64, 43, 52, 10,  0, 14, 43, 44,\n",
              "        53, 56, 43,  1, 61, 43,  1, 54, 56, 53, 41, 43, 43, 42,  1, 39, 52, 63,\n",
              "         1, 44, 59, 56, 58, 46, 43, 56,  6,  1, 46, 43, 39, 56,  1, 51, 43,  1,\n",
              "        57, 54, 43, 39, 49,  8,  0,  0, 13, 50, 50, 10,  0, 31, 54, 43, 39, 49,\n",
              "         6,  1, 57, 54, 43, 39, 49,  8,  0,  0, 18, 47, 56, 57, 58,  1, 15, 47,\n",
              "        58, 47, 64, 43, 52, 10,  0, 37, 53, 59])"
            ]
          },
          "metadata": {},
          "execution_count": 37
        }
      ]
    },
    {
      "cell_type": "code",
      "source": [
        "length = int(0.9 * len(data))"
      ],
      "metadata": {
        "id": "ZOJQmeO3QxRf"
      },
      "execution_count": 51,
      "outputs": []
    },
    {
      "cell_type": "code",
      "source": [
        "train_set = data[: length]\n",
        "test_set = data[length:]"
      ],
      "metadata": {
        "id": "NMPl9tqHOUOf"
      },
      "execution_count": 52,
      "outputs": []
    },
    {
      "cell_type": "markdown",
      "source": [
        "We won't fit the transformer on the entire dataset at once, as it would be very expensive. Instead, we will process the dataset in chunks of text with a specified `block_size` or context size.\n"
      ],
      "metadata": {
        "id": "qqeQhOTnPb4v"
      }
    },
    {
      "cell_type": "code",
      "source": [
        "block_size: int = 8"
      ],
      "metadata": {
        "id": "4GcoD5WgQHle"
      },
      "execution_count": 53,
      "outputs": []
    },
    {
      "cell_type": "code",
      "source": [
        "train_set[:block_size + 1]"
      ],
      "metadata": {
        "colab": {
          "base_uri": "https://localhost:8080/"
        },
        "id": "9-yCTeTeQLK4",
        "outputId": "b9f2a78e-98ab-4718-cf24-c74be9270bad"
      },
      "execution_count": 54,
      "outputs": [
        {
          "output_type": "execute_result",
          "data": {
            "text/plain": [
              "tensor([18, 47, 56, 57, 58,  1, 15, 47, 58])"
            ]
          },
          "metadata": {},
          "execution_count": 54
        }
      ]
    },
    {
      "cell_type": "code",
      "source": [
        "decode(train_set[:block_size + 1].tolist())"
      ],
      "metadata": {
        "colab": {
          "base_uri": "https://localhost:8080/",
          "height": 35
        },
        "id": "sABjFrXSQRCp",
        "outputId": "a94e5702-7e38-4965-c568-fd3d7e93ea57"
      },
      "execution_count": 55,
      "outputs": [
        {
          "output_type": "execute_result",
          "data": {
            "text/plain": [
              "'First Cit'"
            ],
            "application/vnd.google.colaboratory.intrinsic+json": {
              "type": "string"
            }
          },
          "metadata": {},
          "execution_count": 55
        }
      ]
    },
    {
      "cell_type": "markdown",
      "source": [
        "Now, Given a context of characters the Transformer model, will predict the next character. The context is going from 1 to `block_size`."
      ],
      "metadata": {
        "id": "1MR_hOp-QTxJ"
      }
    },
    {
      "cell_type": "code",
      "source": [
        "x = train_set[:block_size]\n",
        "y = train_set[1: block_size + 1]\n",
        "\n",
        "for t in range(block_size):\n",
        "  context = x[:t + 1]\n",
        "  target = y[t]\n",
        "  print(f\"when input is {context} the target: {target}\")"
      ],
      "metadata": {
        "colab": {
          "base_uri": "https://localhost:8080/"
        },
        "id": "j131r62gR5f9",
        "outputId": "1ebeaf2c-b2fe-4bf2-a1cf-4a72822679d9"
      },
      "execution_count": 56,
      "outputs": [
        {
          "output_type": "stream",
          "name": "stdout",
          "text": [
            "when input is tensor([18]) the target: 47\n",
            "when input is tensor([18, 47]) the target: 56\n",
            "when input is tensor([18, 47, 56]) the target: 57\n",
            "when input is tensor([18, 47, 56, 57]) the target: 58\n",
            "when input is tensor([18, 47, 56, 57, 58]) the target: 1\n",
            "when input is tensor([18, 47, 56, 57, 58,  1]) the target: 15\n",
            "when input is tensor([18, 47, 56, 57, 58,  1, 15]) the target: 47\n",
            "when input is tensor([18, 47, 56, 57, 58,  1, 15, 47]) the target: 58\n"
          ]
        }
      ]
    },
    {
      "cell_type": "markdown",
      "source": [
        "For a chunk, we train on eight training examples. This is done to make the transformer model be used working with context sizes ranging from one character to `block_size` characters.\n"
      ],
      "metadata": {
        "id": "SK6gJVNASC0J"
      }
    },
    {
      "cell_type": "code",
      "source": [],
      "metadata": {
        "id": "Qw3YW5XITFxQ"
      },
      "execution_count": null,
      "outputs": []
    }
  ]
}