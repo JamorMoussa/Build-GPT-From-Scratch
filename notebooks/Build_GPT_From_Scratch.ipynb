{
  "nbformat": 4,
  "nbformat_minor": 0,
  "metadata": {
    "colab": {
      "provenance": [],
      "authorship_tag": "ABX9TyMdRpfhqAvnfoc23KVfSRxW",
      "include_colab_link": true
    },
    "kernelspec": {
      "name": "python3",
      "display_name": "Python 3"
    },
    "language_info": {
      "name": "python"
    }
  },
  "cells": [
    {
      "cell_type": "markdown",
      "metadata": {
        "id": "view-in-github",
        "colab_type": "text"
      },
      "source": [
        "<a href=\"https://colab.research.google.com/github/JamorMoussa/Build-GPT-From-Scratch/blob/main/notebooks/Build_GPT_From_Scratch.ipynb\" target=\"_parent\"><img src=\"https://colab.research.google.com/assets/colab-badge.svg\" alt=\"Open In Colab\"/></a>"
      ]
    },
    {
      "cell_type": "markdown",
      "source": [
        "# Building a GPT from scratch"
      ],
      "metadata": {
        "id": "RNnh9gDk7pDE"
      }
    },
    {
      "cell_type": "markdown",
      "source": [
        "**GPT** stands for **Generative Pre-Trained Transformer**, a probabilistic system based on the **Transformer** architecture. This architecture was introduced in the renowned 2017 paper by Google, [Attention is All You Need](https://arxiv.org/pdf/1706.03762). The paper proposed the **Transformer** model for machine translation tasks."
      ],
      "metadata": {
        "id": "ViiwNSQ48RMA"
      }
    },
    {
      "cell_type": "markdown",
      "source": [
        "This notebook contains notes for **Andrej Karpathy**'s tutorial, titled [Let's Build GPT: From Scratch, in Code, Spelled Out](https://www.youtube.com/watch?v=kCc8FmEb1nY) on his YouTube channel."
      ],
      "metadata": {
        "id": "mlA2cwqx-DzK"
      }
    },
    {
      "cell_type": "markdown",
      "source": [
        "## Let's Prepare The Dataset"
      ],
      "metadata": {
        "id": "IH4qD7GSANpo"
      }
    },
    {
      "cell_type": "markdown",
      "source": [
        "In this tutorial, we use the Tiny Shakespeare dataset. It is a text file of 1.06 MB in size, which is a concatenation of all the works of [William Shakespeare](https://en.wikipedia.org/wiki/William_Shakespeare)."
      ],
      "metadata": {
        "id": "gGIwMY4iAjCF"
      }
    },
    {
      "cell_type": "code",
      "source": [
        "# Let's download the dataset first.\n",
        "\n",
        "!wget https://raw.githubusercontent.com/karpathy/char-rnn/master/data/tinyshakespeare/input.txt"
      ],
      "metadata": {
        "colab": {
          "base_uri": "https://localhost:8080/"
        },
        "id": "eAmT5lsMA4Rf",
        "outputId": "473ebf38-0e45-4ce4-8e37-bd1b1365e276"
      },
      "execution_count": 1,
      "outputs": [
        {
          "output_type": "stream",
          "name": "stdout",
          "text": [
            "--2024-06-05 23:57:15--  https://raw.githubusercontent.com/karpathy/char-rnn/master/data/tinyshakespeare/input.txt\n",
            "Resolving raw.githubusercontent.com (raw.githubusercontent.com)... 185.199.109.133, 185.199.110.133, 185.199.108.133, ...\n",
            "Connecting to raw.githubusercontent.com (raw.githubusercontent.com)|185.199.109.133|:443... connected.\n",
            "HTTP request sent, awaiting response... 200 OK\n",
            "Length: 1115394 (1.1M) [text/plain]\n",
            "Saving to: ‘input.txt’\n",
            "\n",
            "input.txt           100%[===================>]   1.06M  --.-KB/s    in 0.06s   \n",
            "\n",
            "2024-06-05 23:57:16 (18.4 MB/s) - ‘input.txt’ saved [1115394/1115394]\n",
            "\n"
          ]
        }
      ]
    },
    {
      "cell_type": "markdown",
      "source": [
        "Next, let's read the dataset and print the 1000 first characters."
      ],
      "metadata": {
        "id": "TTyfbJg1C626"
      }
    },
    {
      "cell_type": "code",
      "source": [
        "dataset_path = \"/content/input.txt\"\n",
        "\n",
        "with open(dataset_path, \"r\", encoding=\"utf-8\") as f:\n",
        "  text = f.read()"
      ],
      "metadata": {
        "id": "b_44kILKDC2n"
      },
      "execution_count": 2,
      "outputs": []
    },
    {
      "cell_type": "code",
      "source": [
        "print(text[:1000])"
      ],
      "metadata": {
        "colab": {
          "base_uri": "https://localhost:8080/"
        },
        "id": "Z5DslCgfDmlN",
        "outputId": "9e28d704-a6c9-450c-9ae3-7c4ba47607f6"
      },
      "execution_count": 3,
      "outputs": [
        {
          "output_type": "stream",
          "name": "stdout",
          "text": [
            "First Citizen:\n",
            "Before we proceed any further, hear me speak.\n",
            "\n",
            "All:\n",
            "Speak, speak.\n",
            "\n",
            "First Citizen:\n",
            "You are all resolved rather to die than to famish?\n",
            "\n",
            "All:\n",
            "Resolved. resolved.\n",
            "\n",
            "First Citizen:\n",
            "First, you know Caius Marcius is chief enemy to the people.\n",
            "\n",
            "All:\n",
            "We know't, we know't.\n",
            "\n",
            "First Citizen:\n",
            "Let us kill him, and we'll have corn at our own price.\n",
            "Is't a verdict?\n",
            "\n",
            "All:\n",
            "No more talking on't; let it be done: away, away!\n",
            "\n",
            "Second Citizen:\n",
            "One word, good citizens.\n",
            "\n",
            "First Citizen:\n",
            "We are accounted poor citizens, the patricians good.\n",
            "What authority surfeits on would relieve us: if they\n",
            "would yield us but the superfluity, while it were\n",
            "wholesome, we might guess they relieved us humanely;\n",
            "but they think we are too dear: the leanness that\n",
            "afflicts us, the object of our misery, is as an\n",
            "inventory to particularise their abundance; our\n",
            "sufferance is a gain to them Let us revenge this with\n",
            "our pikes, ere we become rakes: for the gods know I\n",
            "speak this in hunger for bread, not in thirst for revenge.\n",
            "\n",
            "\n"
          ]
        }
      ]
    },
    {
      "cell_type": "code",
      "source": [
        "# Let's print the lenght of dataset in characters:\n",
        "\n",
        "print(f\"length of dataset in characters: {len(text)}\")"
      ],
      "metadata": {
        "colab": {
          "base_uri": "https://localhost:8080/"
        },
        "id": "Nc0mV535DoxM",
        "outputId": "84f0ecf4-ddbf-4e96-beed-61e71b8776a2"
      },
      "execution_count": 4,
      "outputs": [
        {
          "output_type": "stream",
          "name": "stdout",
          "text": [
            "length of dataset in characters: 1115394\n"
          ]
        }
      ]
    },
    {
      "cell_type": "markdown",
      "source": [
        "The next step is to build the vocabulary by finding the unique characters present in the text. Then, we build an `encoder` that maps characters to integers and a `decoder` that maps integers back to characters."
      ],
      "metadata": {
        "id": "DIgonZLvEdWj"
      }
    },
    {
      "cell_type": "code",
      "source": [
        "chars = sorted(list(set(text)))\n",
        "vocab_size = len(chars)\n",
        "print(\"\".join(chars))\n",
        "print(vocab_size)"
      ],
      "metadata": {
        "colab": {
          "base_uri": "https://localhost:8080/"
        },
        "id": "sDd-bRarE7Mi",
        "outputId": "485af9fe-8001-43a4-c99e-575b62f32bd4"
      },
      "execution_count": 37,
      "outputs": [
        {
          "output_type": "stream",
          "name": "stdout",
          "text": [
            "\n",
            " !$&',-.3:;?ABCDEFGHIJKLMNOPQRSTUVWXYZabcdefghijklmnopqrstuvwxyz\n",
            "65\n"
          ]
        }
      ]
    },
    {
      "cell_type": "markdown",
      "source": [
        "The dataset contains 65 unique characters. Let's build the `encode` function, which maps a string to a list of integers, and the `decode` function, which performs the inverse operation."
      ],
      "metadata": {
        "id": "HPHPWoZvHIFd"
      }
    },
    {
      "cell_type": "code",
      "source": [
        "stoi = {char: i for i, char in enumerate(chars)}\n",
        "itos = {i: char for i, char in enumerate(chars)}"
      ],
      "metadata": {
        "id": "wKkLFEWyGWor"
      },
      "execution_count": 6,
      "outputs": []
    },
    {
      "cell_type": "code",
      "source": [
        "encode = lambda s: [stoi[c] for c in s]\n",
        "decode = lambda l: \"\".join([itos[i] for i in l])\n",
        "\n",
        "hello_code = encode('hello')\n",
        "\n",
        "print(f\"the encode of 'hello' is {hello_code}\")\n",
        "print(f\"Let's decode it {decode(hello_code)}\")"
      ],
      "metadata": {
        "colab": {
          "base_uri": "https://localhost:8080/"
        },
        "id": "6l-TfbpDFlnA",
        "outputId": "977ef96e-dd07-4aef-8d50-f019975e1256"
      },
      "execution_count": 7,
      "outputs": [
        {
          "output_type": "stream",
          "name": "stdout",
          "text": [
            "the encode of 'hello' is [46, 43, 50, 50, 53]\n",
            "Let's decode it hello\n"
          ]
        }
      ]
    },
    {
      "cell_type": "markdown",
      "source": [
        "In fact, this is a naive encoding strategy. However, in practice, we use sub-word encoders. For example, Google uses [SentencePiece](https://github.com/google/sentencepiece), an unsupervised text tokenizer. Another example is [Tiktoken](https://github.com/openai/tiktoken) from OpenAI, which is based on [Byte Pair Encoding (BPE)](https://en.wikipedia.org/wiki/Byte_pair_encoding). BPE is used by OpenAI in their models."
      ],
      "metadata": {
        "id": "TvY1JnxxJK7x"
      }
    },
    {
      "cell_type": "markdown",
      "source": [
        "Let's have an example using the `Tiktoken` tokenizer."
      ],
      "metadata": {
        "id": "vnoR0nxpK5Nj"
      }
    },
    {
      "cell_type": "code",
      "source": [
        "!pip install tiktoken"
      ],
      "metadata": {
        "id": "xXe6LxV1LfZK"
      },
      "execution_count": null,
      "outputs": []
    },
    {
      "cell_type": "code",
      "source": [
        "import tiktoken\n",
        "\n",
        "enc = tiktoken.get_encoding(\"gpt2\")\n",
        "print(f\"vocab size: {enc.n_vocab}\")"
      ],
      "metadata": {
        "colab": {
          "base_uri": "https://localhost:8080/"
        },
        "id": "6KY9IYtaJ2Ou",
        "outputId": "6378d383-9cc5-4640-9f14-7c284a15b676"
      },
      "execution_count": 9,
      "outputs": [
        {
          "output_type": "stream",
          "name": "stdout",
          "text": [
            "vocab size: 50257\n"
          ]
        }
      ]
    },
    {
      "cell_type": "code",
      "source": [
        "enc.encode(\"hello enveryone\")"
      ],
      "metadata": {
        "colab": {
          "base_uri": "https://localhost:8080/"
        },
        "id": "_uzkQgrJLeTk",
        "outputId": "fd92d4aa-a020-4881-fa61-3b089cb410c5"
      },
      "execution_count": 10,
      "outputs": [
        {
          "output_type": "execute_result",
          "data": {
            "text/plain": [
              "[31373, 551, 548, 505]"
            ]
          },
          "metadata": {},
          "execution_count": 10
        }
      ]
    },
    {
      "cell_type": "code",
      "source": [
        "[enc.decode([code]) for code in [31373, 551, 548, 505]]"
      ],
      "metadata": {
        "colab": {
          "base_uri": "https://localhost:8080/"
        },
        "id": "AsSurSSDLoYd",
        "outputId": "d881f18f-b40a-44ba-e3b5-77c567995783"
      },
      "execution_count": 11,
      "outputs": [
        {
          "output_type": "execute_result",
          "data": {
            "text/plain": [
              "['hello', ' en', 'very', 'one']"
            ]
          },
          "metadata": {},
          "execution_count": 11
        }
      ]
    },
    {
      "cell_type": "markdown",
      "source": [
        "So, for this tutorial, we will continue to use character encoding for simplicity. Now, it's time to encode the entire dataset using this encoder. Let's start using the `PyTorch` framework to work with tensors."
      ],
      "metadata": {
        "id": "qjLg8aZVMFHx"
      }
    },
    {
      "cell_type": "code",
      "source": [
        "import torch"
      ],
      "metadata": {
        "id": "N6BsfCARMTiN"
      },
      "execution_count": 13,
      "outputs": []
    },
    {
      "cell_type": "code",
      "source": [
        "data = torch.tensor(encode(text), dtype=torch.long)\n",
        "print(data.shape, data.dtype)"
      ],
      "metadata": {
        "colab": {
          "base_uri": "https://localhost:8080/"
        },
        "id": "8m_AN8dJOK8s",
        "outputId": "2bf8e4c3-a977-4edd-82bd-a2d807f19259"
      },
      "execution_count": 14,
      "outputs": [
        {
          "output_type": "stream",
          "name": "stdout",
          "text": [
            "torch.Size([1115394]) torch.int64\n"
          ]
        }
      ]
    },
    {
      "cell_type": "code",
      "source": [
        "data[:100]"
      ],
      "metadata": {
        "colab": {
          "base_uri": "https://localhost:8080/"
        },
        "id": "6YZJXyKoOSZD",
        "outputId": "7eb55ab5-3a27-41cc-aebf-535e76d961c2"
      },
      "execution_count": 15,
      "outputs": [
        {
          "output_type": "execute_result",
          "data": {
            "text/plain": [
              "tensor([18, 47, 56, 57, 58,  1, 15, 47, 58, 47, 64, 43, 52, 10,  0, 14, 43, 44,\n",
              "        53, 56, 43,  1, 61, 43,  1, 54, 56, 53, 41, 43, 43, 42,  1, 39, 52, 63,\n",
              "         1, 44, 59, 56, 58, 46, 43, 56,  6,  1, 46, 43, 39, 56,  1, 51, 43,  1,\n",
              "        57, 54, 43, 39, 49,  8,  0,  0, 13, 50, 50, 10,  0, 31, 54, 43, 39, 49,\n",
              "         6,  1, 57, 54, 43, 39, 49,  8,  0,  0, 18, 47, 56, 57, 58,  1, 15, 47,\n",
              "        58, 47, 64, 43, 52, 10,  0, 37, 53, 59])"
            ]
          },
          "metadata": {},
          "execution_count": 15
        }
      ]
    },
    {
      "cell_type": "code",
      "source": [
        "length = int(0.9 * len(data))"
      ],
      "metadata": {
        "id": "ZOJQmeO3QxRf"
      },
      "execution_count": 16,
      "outputs": []
    },
    {
      "cell_type": "code",
      "source": [
        "train_set = data[: length]\n",
        "test_set = data[length:]"
      ],
      "metadata": {
        "id": "NMPl9tqHOUOf"
      },
      "execution_count": 17,
      "outputs": []
    },
    {
      "cell_type": "markdown",
      "source": [
        "We won't fit the transformer on the entire dataset at once, as it would be very expensive. Instead, we will process the dataset in chunks of text with a specified `block_size` or context size.\n"
      ],
      "metadata": {
        "id": "qqeQhOTnPb4v"
      }
    },
    {
      "cell_type": "code",
      "source": [
        "block_size: int = 8"
      ],
      "metadata": {
        "id": "4GcoD5WgQHle"
      },
      "execution_count": 18,
      "outputs": []
    },
    {
      "cell_type": "code",
      "source": [
        "train_set[:block_size + 1]"
      ],
      "metadata": {
        "colab": {
          "base_uri": "https://localhost:8080/"
        },
        "id": "9-yCTeTeQLK4",
        "outputId": "6fefe2a8-bfe8-4c28-9ed7-d97cb544de51"
      },
      "execution_count": 19,
      "outputs": [
        {
          "output_type": "execute_result",
          "data": {
            "text/plain": [
              "tensor([18, 47, 56, 57, 58,  1, 15, 47, 58])"
            ]
          },
          "metadata": {},
          "execution_count": 19
        }
      ]
    },
    {
      "cell_type": "code",
      "source": [
        "decode(train_set[:block_size + 1].tolist())"
      ],
      "metadata": {
        "colab": {
          "base_uri": "https://localhost:8080/",
          "height": 35
        },
        "id": "sABjFrXSQRCp",
        "outputId": "1a93fb70-f383-4faf-9d6e-41d259d4f24f"
      },
      "execution_count": 20,
      "outputs": [
        {
          "output_type": "execute_result",
          "data": {
            "text/plain": [
              "'First Cit'"
            ],
            "application/vnd.google.colaboratory.intrinsic+json": {
              "type": "string"
            }
          },
          "metadata": {},
          "execution_count": 20
        }
      ]
    },
    {
      "cell_type": "markdown",
      "source": [
        "Now, Given a context of characters the Transformer model, will predict the next character. The context is going from 1 to `block_size`."
      ],
      "metadata": {
        "id": "1MR_hOp-QTxJ"
      }
    },
    {
      "cell_type": "code",
      "source": [
        "x = train_set[:block_size]\n",
        "y = train_set[1: block_size + 1]\n",
        "\n",
        "for t in range(block_size):\n",
        "  context = x[:t + 1]\n",
        "  target = y[t]\n",
        "  print(f\"when input is {context} the target: {target}\")"
      ],
      "metadata": {
        "colab": {
          "base_uri": "https://localhost:8080/"
        },
        "id": "j131r62gR5f9",
        "outputId": "a5b11305-d924-490d-c927-fea7e25b06e9"
      },
      "execution_count": 21,
      "outputs": [
        {
          "output_type": "stream",
          "name": "stdout",
          "text": [
            "when input is tensor([18]) the target: 47\n",
            "when input is tensor([18, 47]) the target: 56\n",
            "when input is tensor([18, 47, 56]) the target: 57\n",
            "when input is tensor([18, 47, 56, 57]) the target: 58\n",
            "when input is tensor([18, 47, 56, 57, 58]) the target: 1\n",
            "when input is tensor([18, 47, 56, 57, 58,  1]) the target: 15\n",
            "when input is tensor([18, 47, 56, 57, 58,  1, 15]) the target: 47\n",
            "when input is tensor([18, 47, 56, 57, 58,  1, 15, 47]) the target: 58\n"
          ]
        }
      ]
    },
    {
      "cell_type": "markdown",
      "source": [
        "For a chunk, we train on eight training examples. This is done to make the transformer model be used working with context sizes ranging from one character to `block_size` characters.\n"
      ],
      "metadata": {
        "id": "SK6gJVNASC0J"
      }
    },
    {
      "cell_type": "markdown",
      "source": [
        "Until now, we have only worked on the time dimension. Let's now prepare the data to introduce the batch dimension."
      ],
      "metadata": {
        "id": "Qw3YW5XITFxQ"
      }
    },
    {
      "cell_type": "code",
      "source": [
        "torch.manual_seed(1337) # fix the seed\n",
        "block_size = 8 # maximum length of context.\n",
        "batch_size = 4"
      ],
      "metadata": {
        "id": "N7h-es6M3Tpw"
      },
      "execution_count": 25,
      "outputs": []
    },
    {
      "cell_type": "code",
      "source": [
        "def get_batch(split: str = \"train\"):\n",
        "  data = train_set if split == \"train\" else test_set\n",
        "  ix = torch.randint(len(data) - block_size, (batch_size,))\n",
        "\n",
        "  x = torch.stack([data[i: i + block_size] for i in ix])\n",
        "  y = torch.stack([data[i + 1: i + block_size + 1] for i in ix])\n",
        "  return x, y"
      ],
      "metadata": {
        "id": "l4OwpPfi3fFt"
      },
      "execution_count": 28,
      "outputs": []
    },
    {
      "cell_type": "code",
      "source": [
        "xb, yb = get_batch(split = \"train\")"
      ],
      "metadata": {
        "id": "5HPEJ1cW4GdI"
      },
      "execution_count": 29,
      "outputs": []
    },
    {
      "cell_type": "code",
      "source": [
        "xb"
      ],
      "metadata": {
        "colab": {
          "base_uri": "https://localhost:8080/"
        },
        "id": "GfMsKUzb4MhX",
        "outputId": "c6e71933-599e-4143-d1f8-60ec61fe9da6"
      },
      "execution_count": 30,
      "outputs": [
        {
          "output_type": "execute_result",
          "data": {
            "text/plain": [
              "tensor([[43,  1, 51, 39, 63,  1, 40, 43],\n",
              "        [58, 46, 43,  1, 43, 39, 56, 57],\n",
              "        [39, 58, 47, 53, 52, 12,  1, 37],\n",
              "        [53, 56, 43,  1, 21,  1, 41, 39]])"
            ]
          },
          "metadata": {},
          "execution_count": 30
        }
      ]
    },
    {
      "cell_type": "code",
      "source": [
        "yb"
      ],
      "metadata": {
        "colab": {
          "base_uri": "https://localhost:8080/"
        },
        "id": "T8G_ie0u4ND8",
        "outputId": "3fe7b601-81e0-47ea-e2bc-42dd882cc07c"
      },
      "execution_count": 31,
      "outputs": [
        {
          "output_type": "execute_result",
          "data": {
            "text/plain": [
              "tensor([[ 1, 51, 39, 63,  1, 40, 43,  1],\n",
              "        [46, 43,  1, 43, 39, 56, 57, 10],\n",
              "        [58, 47, 53, 52, 12,  1, 37, 53],\n",
              "        [56, 43,  1, 21,  1, 41, 39, 51]])"
            ]
          },
          "metadata": {},
          "execution_count": 31
        }
      ]
    },
    {
      "cell_type": "code",
      "source": [
        "for b in range(batch_size): # batch dimension\n",
        "    for t in range(block_size): # time dimension\n",
        "        context = xb[b, :t+1]\n",
        "        target = yb[b,t]\n",
        "        print(f\"when input is {context.tolist()} the target: {target}\")\n",
        "    print()"
      ],
      "metadata": {
        "colab": {
          "base_uri": "https://localhost:8080/"
        },
        "id": "hzZkWCaT4Otr",
        "outputId": "0cac9e18-88a9-4017-abe4-48a37c511ce8"
      },
      "execution_count": 34,
      "outputs": [
        {
          "output_type": "stream",
          "name": "stdout",
          "text": [
            "when input is [43] the target: 1\n",
            "when input is [43, 1] the target: 51\n",
            "when input is [43, 1, 51] the target: 39\n",
            "when input is [43, 1, 51, 39] the target: 63\n",
            "when input is [43, 1, 51, 39, 63] the target: 1\n",
            "when input is [43, 1, 51, 39, 63, 1] the target: 40\n",
            "when input is [43, 1, 51, 39, 63, 1, 40] the target: 43\n",
            "when input is [43, 1, 51, 39, 63, 1, 40, 43] the target: 1\n",
            "\n",
            "when input is [58] the target: 46\n",
            "when input is [58, 46] the target: 43\n",
            "when input is [58, 46, 43] the target: 1\n",
            "when input is [58, 46, 43, 1] the target: 43\n",
            "when input is [58, 46, 43, 1, 43] the target: 39\n",
            "when input is [58, 46, 43, 1, 43, 39] the target: 56\n",
            "when input is [58, 46, 43, 1, 43, 39, 56] the target: 57\n",
            "when input is [58, 46, 43, 1, 43, 39, 56, 57] the target: 10\n",
            "\n",
            "when input is [39] the target: 58\n",
            "when input is [39, 58] the target: 47\n",
            "when input is [39, 58, 47] the target: 53\n",
            "when input is [39, 58, 47, 53] the target: 52\n",
            "when input is [39, 58, 47, 53, 52] the target: 12\n",
            "when input is [39, 58, 47, 53, 52, 12] the target: 1\n",
            "when input is [39, 58, 47, 53, 52, 12, 1] the target: 37\n",
            "when input is [39, 58, 47, 53, 52, 12, 1, 37] the target: 53\n",
            "\n",
            "when input is [53] the target: 56\n",
            "when input is [53, 56] the target: 43\n",
            "when input is [53, 56, 43] the target: 1\n",
            "when input is [53, 56, 43, 1] the target: 21\n",
            "when input is [53, 56, 43, 1, 21] the target: 1\n",
            "when input is [53, 56, 43, 1, 21, 1] the target: 41\n",
            "when input is [53, 56, 43, 1, 21, 1, 41] the target: 39\n",
            "when input is [53, 56, 43, 1, 21, 1, 41, 39] the target: 51\n",
            "\n"
          ]
        }
      ]
    },
    {
      "cell_type": "markdown",
      "source": [
        "## Build Bigram Language Model"
      ],
      "metadata": {
        "id": "SbcqnkQ16V66"
      }
    },
    {
      "cell_type": "markdown",
      "source": [
        "The Bigram Language model is the simplest language model we can use initially."
      ],
      "metadata": {
        "id": "2I05-MHt8Vk2"
      }
    },
    {
      "cell_type": "code",
      "source": [
        "import torch, torch.nn as nn\n",
        "from torch.nn import functional as F"
      ],
      "metadata": {
        "id": "O1kSPtuw4T8l"
      },
      "execution_count": 35,
      "outputs": []
    },
    {
      "cell_type": "code",
      "source": [
        "class BigramLanguageModel(nn.Module):\n",
        "\n",
        "  def __init__(self, vocab_size: int = 65):\n",
        "    super(BigramLanguageModel, self).__init__()\n",
        "\n",
        "    self.emb = nn.Embedding(vocab_size, vocab_size) # table of (vocab_size, vocab_size)\n",
        "\n",
        "  def forward(self, ids: torch.Tensor) -> torch.Tensor:\n",
        "    ids = torch.Tensor(ids).type(torch.long)\n",
        "\n",
        "    logits = self.emb(ids) # (B, T, C)\n",
        "    return logits.permute(0, 2, 1) # (B, C, T)\n",
        "\n",
        "  def generate(self, idx: torch.Tensor, max_tokens: int):\n",
        "\n",
        "    for _ in range(max_tokens):\n",
        "      logits = self(idx)[:, :, -1]\n",
        "\n",
        "      probs = F.softmax(logits, dim=-1)\n",
        "\n",
        "      idx_next = torch.multinomial(probs, num_samples=1)\n",
        "      idx = torch.cat((idx, idx_next), dim=1)\n",
        "\n",
        "    return idx"
      ],
      "metadata": {
        "id": "KYRByhBn72t9"
      },
      "execution_count": 131,
      "outputs": []
    },
    {
      "cell_type": "code",
      "source": [
        "model = BigramLanguageModel(vocab_size)"
      ],
      "metadata": {
        "id": "--a7PfQM9GGi"
      },
      "execution_count": 132,
      "outputs": []
    },
    {
      "cell_type": "code",
      "source": [
        "model"
      ],
      "metadata": {
        "colab": {
          "base_uri": "https://localhost:8080/"
        },
        "id": "TsW0zF809Ies",
        "outputId": "ea18f03c-0ed9-42a0-e8b2-1806b6b0524a"
      },
      "execution_count": 133,
      "outputs": [
        {
          "output_type": "execute_result",
          "data": {
            "text/plain": [
              "BigramLanguageModel(\n",
              "  (emb): Embedding(65, 65)\n",
              ")"
            ]
          },
          "metadata": {},
          "execution_count": 133
        }
      ]
    },
    {
      "cell_type": "code",
      "source": [
        "start_index = torch.zeros((1, 1), dtype=torch.long)"
      ],
      "metadata": {
        "id": "BeAbHQt3_5op"
      },
      "execution_count": 138,
      "outputs": []
    },
    {
      "cell_type": "code",
      "source": [
        "decode(model.generate(idx= start_index, max_tokens= 100)[0].tolist())"
      ],
      "metadata": {
        "colab": {
          "base_uri": "https://localhost:8080/",
          "height": 35
        },
        "id": "55xpXr159q2N",
        "outputId": "56dc12cb-fac3-4dc3-8840-ca58e6050b48"
      },
      "execution_count": 139,
      "outputs": [
        {
          "output_type": "execute_result",
          "data": {
            "text/plain": [
              "'\\nI-Lrg3,N!. htSZn&.UC&hJ.zVLaM?EFeaOQmEWlqKSGjb\\nKW.vuIqHZBPiJSp BPwmUsRcLKPBoZ$o;OvCJVbviApwGYlMneO\\ne'"
            ],
            "application/vnd.google.colaboratory.intrinsic+json": {
              "type": "string"
            }
          },
          "metadata": {},
          "execution_count": 139
        }
      ]
    },
    {
      "cell_type": "markdown",
      "source": [
        "As we can see, the generated output is totally random. This is because we have not trained the model yet, which is the next step."
      ],
      "metadata": {
        "id": "9FdVg_OP_HX6"
      }
    }
  ]
}