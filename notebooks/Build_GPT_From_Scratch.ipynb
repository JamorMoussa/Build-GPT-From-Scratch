{
  "nbformat": 4,
  "nbformat_minor": 0,
  "metadata": {
    "colab": {
      "provenance": [],
      "authorship_tag": "ABX9TyOLzWFl4CtQwnc+xpACuWNw",
      "include_colab_link": true
    },
    "kernelspec": {
      "name": "python3",
      "display_name": "Python 3"
    },
    "language_info": {
      "name": "python"
    }
  },
  "cells": [
    {
      "cell_type": "markdown",
      "metadata": {
        "id": "view-in-github",
        "colab_type": "text"
      },
      "source": [
        "<a href=\"https://colab.research.google.com/github/JamorMoussa/Build-GPT-From-Scratch/blob/main/notebooks/Build_GPT_From_Scratch.ipynb\" target=\"_parent\"><img src=\"https://colab.research.google.com/assets/colab-badge.svg\" alt=\"Open In Colab\"/></a>"
      ]
    },
    {
      "cell_type": "markdown",
      "source": [
        "# Building a GPT from scratch"
      ],
      "metadata": {
        "id": "RNnh9gDk7pDE"
      }
    },
    {
      "cell_type": "markdown",
      "source": [
        "**GPT** stands for **Generative Pre-Trained Transformer**, a probabilistic system based on the **Transformer** architecture. This architecture was introduced in the renowned 2017 paper by Google, [Attention is All You Need](https://arxiv.org/pdf/1706.03762). The paper proposed the **Transformer** model for machine translation tasks."
      ],
      "metadata": {
        "id": "ViiwNSQ48RMA"
      }
    },
    {
      "cell_type": "markdown",
      "source": [
        "This notebook contains notes for **Andrej Karpathy**'s tutorial, titled [Let's Build GPT: From Scratch, in Code, Spelled Out](https://www.youtube.com/watch?v=kCc8FmEb1nY) on his YouTube channel."
      ],
      "metadata": {
        "id": "mlA2cwqx-DzK"
      }
    },
    {
      "cell_type": "markdown",
      "source": [
        "## Let's Prepare The Dataset"
      ],
      "metadata": {
        "id": "IH4qD7GSANpo"
      }
    },
    {
      "cell_type": "markdown",
      "source": [
        "In this tutorial, we use the Tiny Shakespeare dataset. It is a text file of 1.06 MB in size, which is a concatenation of all the works of [William Shakespeare](https://en.wikipedia.org/wiki/William_Shakespeare)."
      ],
      "metadata": {
        "id": "gGIwMY4iAjCF"
      }
    },
    {
      "cell_type": "code",
      "source": [
        "# Let's download the dataset first.\n",
        "\n",
        "!wget https://raw.githubusercontent.com/karpathy/char-rnn/master/data/tinyshakespeare/input.txt"
      ],
      "metadata": {
        "colab": {
          "base_uri": "https://localhost:8080/"
        },
        "id": "eAmT5lsMA4Rf",
        "outputId": "3abe0c9e-8600-46b7-cfde-4f3c753d0228"
      },
      "execution_count": 1,
      "outputs": [
        {
          "output_type": "stream",
          "name": "stdout",
          "text": [
            "--2024-06-06 12:46:46--  https://raw.githubusercontent.com/karpathy/char-rnn/master/data/tinyshakespeare/input.txt\n",
            "Resolving raw.githubusercontent.com (raw.githubusercontent.com)... 185.199.108.133, 185.199.109.133, 185.199.110.133, ...\n",
            "Connecting to raw.githubusercontent.com (raw.githubusercontent.com)|185.199.108.133|:443... connected.\n",
            "HTTP request sent, awaiting response... 200 OK\n",
            "Length: 1115394 (1.1M) [text/plain]\n",
            "Saving to: ‘input.txt’\n",
            "\n",
            "input.txt           100%[===================>]   1.06M  5.46MB/s    in 0.2s    \n",
            "\n",
            "2024-06-06 12:46:47 (5.46 MB/s) - ‘input.txt’ saved [1115394/1115394]\n",
            "\n"
          ]
        }
      ]
    },
    {
      "cell_type": "markdown",
      "source": [
        "Next, let's read the dataset and print the 1000 first characters."
      ],
      "metadata": {
        "id": "TTyfbJg1C626"
      }
    },
    {
      "cell_type": "code",
      "source": [
        "dataset_path = \"/content/input.txt\"\n",
        "\n",
        "with open(dataset_path, \"r\", encoding=\"utf-8\") as f:\n",
        "  text = f.read()"
      ],
      "metadata": {
        "id": "b_44kILKDC2n"
      },
      "execution_count": 2,
      "outputs": []
    },
    {
      "cell_type": "code",
      "source": [
        "print(text[:1000])"
      ],
      "metadata": {
        "colab": {
          "base_uri": "https://localhost:8080/"
        },
        "id": "Z5DslCgfDmlN",
        "outputId": "7fe9d63b-ffae-4a5d-ec29-8e41a846a24e"
      },
      "execution_count": 3,
      "outputs": [
        {
          "output_type": "stream",
          "name": "stdout",
          "text": [
            "First Citizen:\n",
            "Before we proceed any further, hear me speak.\n",
            "\n",
            "All:\n",
            "Speak, speak.\n",
            "\n",
            "First Citizen:\n",
            "You are all resolved rather to die than to famish?\n",
            "\n",
            "All:\n",
            "Resolved. resolved.\n",
            "\n",
            "First Citizen:\n",
            "First, you know Caius Marcius is chief enemy to the people.\n",
            "\n",
            "All:\n",
            "We know't, we know't.\n",
            "\n",
            "First Citizen:\n",
            "Let us kill him, and we'll have corn at our own price.\n",
            "Is't a verdict?\n",
            "\n",
            "All:\n",
            "No more talking on't; let it be done: away, away!\n",
            "\n",
            "Second Citizen:\n",
            "One word, good citizens.\n",
            "\n",
            "First Citizen:\n",
            "We are accounted poor citizens, the patricians good.\n",
            "What authority surfeits on would relieve us: if they\n",
            "would yield us but the superfluity, while it were\n",
            "wholesome, we might guess they relieved us humanely;\n",
            "but they think we are too dear: the leanness that\n",
            "afflicts us, the object of our misery, is as an\n",
            "inventory to particularise their abundance; our\n",
            "sufferance is a gain to them Let us revenge this with\n",
            "our pikes, ere we become rakes: for the gods know I\n",
            "speak this in hunger for bread, not in thirst for revenge.\n",
            "\n",
            "\n"
          ]
        }
      ]
    },
    {
      "cell_type": "code",
      "source": [
        "# Let's print the lenght of dataset in characters:\n",
        "\n",
        "print(f\"length of dataset in characters: {len(text)}\")"
      ],
      "metadata": {
        "colab": {
          "base_uri": "https://localhost:8080/"
        },
        "id": "Nc0mV535DoxM",
        "outputId": "ff80daea-9180-4d1c-9b7f-163b5b9e51e8"
      },
      "execution_count": 4,
      "outputs": [
        {
          "output_type": "stream",
          "name": "stdout",
          "text": [
            "length of dataset in characters: 1115394\n"
          ]
        }
      ]
    },
    {
      "cell_type": "markdown",
      "source": [
        "The next step is to build the vocabulary by finding the unique characters present in the text. Then, we build an `encoder` that maps characters to integers and a `decoder` that maps integers back to characters."
      ],
      "metadata": {
        "id": "DIgonZLvEdWj"
      }
    },
    {
      "cell_type": "code",
      "source": [
        "chars = sorted(list(set(text)))\n",
        "vocab_size = len(chars)\n",
        "print(\"\".join(chars))\n",
        "print(vocab_size)"
      ],
      "metadata": {
        "colab": {
          "base_uri": "https://localhost:8080/"
        },
        "id": "sDd-bRarE7Mi",
        "outputId": "603cedf3-02d1-467b-85dc-7c2cb5a60ee2"
      },
      "execution_count": 5,
      "outputs": [
        {
          "output_type": "stream",
          "name": "stdout",
          "text": [
            "\n",
            " !$&',-.3:;?ABCDEFGHIJKLMNOPQRSTUVWXYZabcdefghijklmnopqrstuvwxyz\n",
            "65\n"
          ]
        }
      ]
    },
    {
      "cell_type": "markdown",
      "source": [
        "The dataset contains 65 unique characters. Let's build the `encode` function, which maps a string to a list of integers, and the `decode` function, which performs the inverse operation."
      ],
      "metadata": {
        "id": "HPHPWoZvHIFd"
      }
    },
    {
      "cell_type": "code",
      "source": [
        "stoi = {char: i for i, char in enumerate(chars)}\n",
        "itos = {i: char for i, char in enumerate(chars)}"
      ],
      "metadata": {
        "id": "wKkLFEWyGWor"
      },
      "execution_count": 6,
      "outputs": []
    },
    {
      "cell_type": "code",
      "source": [
        "encode = lambda s: [stoi[c] for c in s]\n",
        "decode = lambda l: \"\".join([itos[i] for i in l])\n",
        "\n",
        "hello_code = encode('hello')\n",
        "\n",
        "print(f\"the encode of 'hello' is {hello_code}\")\n",
        "print(f\"Let's decode it {decode(hello_code)}\")"
      ],
      "metadata": {
        "colab": {
          "base_uri": "https://localhost:8080/"
        },
        "id": "6l-TfbpDFlnA",
        "outputId": "7a6dcd86-cc7c-4927-a17a-1c50d0940b9a"
      },
      "execution_count": 7,
      "outputs": [
        {
          "output_type": "stream",
          "name": "stdout",
          "text": [
            "the encode of 'hello' is [46, 43, 50, 50, 53]\n",
            "Let's decode it hello\n"
          ]
        }
      ]
    },
    {
      "cell_type": "markdown",
      "source": [
        "In fact, this is a naive encoding strategy. However, in practice, we use sub-word encoders. For example, Google uses [SentencePiece](https://github.com/google/sentencepiece), an unsupervised text tokenizer. Another example is [Tiktoken](https://github.com/openai/tiktoken) from OpenAI, which is based on [Byte Pair Encoding (BPE)](https://en.wikipedia.org/wiki/Byte_pair_encoding). BPE is used by OpenAI in their models."
      ],
      "metadata": {
        "id": "TvY1JnxxJK7x"
      }
    },
    {
      "cell_type": "markdown",
      "source": [
        "Let's have an example using the `Tiktoken` tokenizer."
      ],
      "metadata": {
        "id": "vnoR0nxpK5Nj"
      }
    },
    {
      "cell_type": "code",
      "source": [
        "!pip install tiktoken"
      ],
      "metadata": {
        "id": "xXe6LxV1LfZK"
      },
      "execution_count": null,
      "outputs": []
    },
    {
      "cell_type": "code",
      "source": [
        "import tiktoken\n",
        "\n",
        "enc = tiktoken.get_encoding(\"gpt2\")\n",
        "print(f\"vocab size: {enc.n_vocab}\")"
      ],
      "metadata": {
        "colab": {
          "base_uri": "https://localhost:8080/"
        },
        "id": "6KY9IYtaJ2Ou",
        "outputId": "e02cbd61-9c84-4922-9325-ac46756d4e9c"
      },
      "execution_count": 9,
      "outputs": [
        {
          "output_type": "stream",
          "name": "stdout",
          "text": [
            "vocab size: 50257\n"
          ]
        }
      ]
    },
    {
      "cell_type": "code",
      "source": [
        "enc.encode(\"hello enveryone\")"
      ],
      "metadata": {
        "colab": {
          "base_uri": "https://localhost:8080/"
        },
        "id": "_uzkQgrJLeTk",
        "outputId": "7680775a-5a81-463f-dd08-bcf112dfe5b4"
      },
      "execution_count": 10,
      "outputs": [
        {
          "output_type": "execute_result",
          "data": {
            "text/plain": [
              "[31373, 551, 548, 505]"
            ]
          },
          "metadata": {},
          "execution_count": 10
        }
      ]
    },
    {
      "cell_type": "code",
      "source": [
        "[enc.decode([code]) for code in [31373, 551, 548, 505]]"
      ],
      "metadata": {
        "colab": {
          "base_uri": "https://localhost:8080/"
        },
        "id": "AsSurSSDLoYd",
        "outputId": "f4724577-a80a-47ce-ae60-0efc8ad5f35a"
      },
      "execution_count": 11,
      "outputs": [
        {
          "output_type": "execute_result",
          "data": {
            "text/plain": [
              "['hello', ' en', 'very', 'one']"
            ]
          },
          "metadata": {},
          "execution_count": 11
        }
      ]
    },
    {
      "cell_type": "markdown",
      "source": [
        "So, for this tutorial, we will continue to use character encoding for simplicity. Now, it's time to encode the entire dataset using this encoder. Let's start using the `PyTorch` framework to work with tensors."
      ],
      "metadata": {
        "id": "qjLg8aZVMFHx"
      }
    },
    {
      "cell_type": "code",
      "source": [
        "import torch"
      ],
      "metadata": {
        "id": "N6BsfCARMTiN"
      },
      "execution_count": 12,
      "outputs": []
    },
    {
      "cell_type": "code",
      "source": [
        "data = torch.tensor(encode(text), dtype=torch.long)\n",
        "print(data.shape, data.dtype)"
      ],
      "metadata": {
        "colab": {
          "base_uri": "https://localhost:8080/"
        },
        "id": "8m_AN8dJOK8s",
        "outputId": "09b97b4c-3874-4600-e6db-a022a0ec0648"
      },
      "execution_count": 13,
      "outputs": [
        {
          "output_type": "stream",
          "name": "stdout",
          "text": [
            "torch.Size([1115394]) torch.int64\n"
          ]
        }
      ]
    },
    {
      "cell_type": "code",
      "source": [
        "data[:100]"
      ],
      "metadata": {
        "colab": {
          "base_uri": "https://localhost:8080/"
        },
        "id": "6YZJXyKoOSZD",
        "outputId": "e73cb874-6f03-499d-a4b3-1a57cf10e4da"
      },
      "execution_count": 14,
      "outputs": [
        {
          "output_type": "execute_result",
          "data": {
            "text/plain": [
              "tensor([18, 47, 56, 57, 58,  1, 15, 47, 58, 47, 64, 43, 52, 10,  0, 14, 43, 44,\n",
              "        53, 56, 43,  1, 61, 43,  1, 54, 56, 53, 41, 43, 43, 42,  1, 39, 52, 63,\n",
              "         1, 44, 59, 56, 58, 46, 43, 56,  6,  1, 46, 43, 39, 56,  1, 51, 43,  1,\n",
              "        57, 54, 43, 39, 49,  8,  0,  0, 13, 50, 50, 10,  0, 31, 54, 43, 39, 49,\n",
              "         6,  1, 57, 54, 43, 39, 49,  8,  0,  0, 18, 47, 56, 57, 58,  1, 15, 47,\n",
              "        58, 47, 64, 43, 52, 10,  0, 37, 53, 59])"
            ]
          },
          "metadata": {},
          "execution_count": 14
        }
      ]
    },
    {
      "cell_type": "code",
      "source": [
        "length = int(0.9 * len(data))"
      ],
      "metadata": {
        "id": "ZOJQmeO3QxRf"
      },
      "execution_count": 15,
      "outputs": []
    },
    {
      "cell_type": "code",
      "source": [
        "train_set = data[: length]\n",
        "test_set = data[length:]"
      ],
      "metadata": {
        "id": "NMPl9tqHOUOf"
      },
      "execution_count": 16,
      "outputs": []
    },
    {
      "cell_type": "markdown",
      "source": [
        "We won't fit the transformer on the entire dataset at once, as it would be very expensive. Instead, we will process the dataset in chunks of text with a specified `block_size` or context size.\n"
      ],
      "metadata": {
        "id": "qqeQhOTnPb4v"
      }
    },
    {
      "cell_type": "code",
      "source": [
        "block_size: int = 8"
      ],
      "metadata": {
        "id": "4GcoD5WgQHle"
      },
      "execution_count": 17,
      "outputs": []
    },
    {
      "cell_type": "code",
      "source": [
        "train_set[:block_size + 1]"
      ],
      "metadata": {
        "colab": {
          "base_uri": "https://localhost:8080/"
        },
        "id": "9-yCTeTeQLK4",
        "outputId": "3be88905-4f83-48e5-fd46-04d66a424761"
      },
      "execution_count": 18,
      "outputs": [
        {
          "output_type": "execute_result",
          "data": {
            "text/plain": [
              "tensor([18, 47, 56, 57, 58,  1, 15, 47, 58])"
            ]
          },
          "metadata": {},
          "execution_count": 18
        }
      ]
    },
    {
      "cell_type": "code",
      "source": [
        "decode(train_set[:block_size + 1].tolist())"
      ],
      "metadata": {
        "colab": {
          "base_uri": "https://localhost:8080/",
          "height": 35
        },
        "id": "sABjFrXSQRCp",
        "outputId": "4707f9cb-dbab-4319-dfe2-cfcd125992ec"
      },
      "execution_count": 19,
      "outputs": [
        {
          "output_type": "execute_result",
          "data": {
            "text/plain": [
              "'First Cit'"
            ],
            "application/vnd.google.colaboratory.intrinsic+json": {
              "type": "string"
            }
          },
          "metadata": {},
          "execution_count": 19
        }
      ]
    },
    {
      "cell_type": "markdown",
      "source": [
        "Now, Given a context of characters the Transformer model, will predict the next character. The context is going from 1 to `block_size`."
      ],
      "metadata": {
        "id": "1MR_hOp-QTxJ"
      }
    },
    {
      "cell_type": "code",
      "source": [
        "x = train_set[:block_size]\n",
        "y = train_set[1: block_size + 1]\n",
        "\n",
        "for t in range(block_size):\n",
        "  context = x[:t + 1]\n",
        "  target = y[t]\n",
        "  print(f\"when input is {context} the target: {target}\")"
      ],
      "metadata": {
        "colab": {
          "base_uri": "https://localhost:8080/"
        },
        "id": "j131r62gR5f9",
        "outputId": "e8e4759b-09f1-4da8-d4f7-cb89cae1020c"
      },
      "execution_count": 20,
      "outputs": [
        {
          "output_type": "stream",
          "name": "stdout",
          "text": [
            "when input is tensor([18]) the target: 47\n",
            "when input is tensor([18, 47]) the target: 56\n",
            "when input is tensor([18, 47, 56]) the target: 57\n",
            "when input is tensor([18, 47, 56, 57]) the target: 58\n",
            "when input is tensor([18, 47, 56, 57, 58]) the target: 1\n",
            "when input is tensor([18, 47, 56, 57, 58,  1]) the target: 15\n",
            "when input is tensor([18, 47, 56, 57, 58,  1, 15]) the target: 47\n",
            "when input is tensor([18, 47, 56, 57, 58,  1, 15, 47]) the target: 58\n"
          ]
        }
      ]
    },
    {
      "cell_type": "markdown",
      "source": [
        "For a chunk, we train on eight training examples. This is done to make the transformer model be used working with context sizes ranging from one character to `block_size` characters.\n"
      ],
      "metadata": {
        "id": "SK6gJVNASC0J"
      }
    },
    {
      "cell_type": "markdown",
      "source": [
        "Until now, we have only worked on the time dimension. Let's now prepare the data to introduce the batch dimension."
      ],
      "metadata": {
        "id": "Qw3YW5XITFxQ"
      }
    },
    {
      "cell_type": "code",
      "source": [
        "torch.manual_seed(1337) # fix the seed\n",
        "block_size = 8 # maximum length of context.\n",
        "batch_size = 4"
      ],
      "metadata": {
        "id": "N7h-es6M3Tpw"
      },
      "execution_count": 21,
      "outputs": []
    },
    {
      "cell_type": "code",
      "source": [
        "def get_batch(split: str = \"train\", batch_size: int = 4):\n",
        "  data = train_set if split == \"train\" else test_set\n",
        "  ix = torch.randint(len(data) - block_size, (batch_size,))\n",
        "\n",
        "  x = torch.stack([data[i: i + block_size] for i in ix])\n",
        "  y = torch.stack([data[i + 1: i + block_size + 1] for i in ix])\n",
        "  return x, y"
      ],
      "metadata": {
        "id": "l4OwpPfi3fFt"
      },
      "execution_count": 40,
      "outputs": []
    },
    {
      "cell_type": "code",
      "source": [
        "xb, yb = get_batch(split = \"train\")"
      ],
      "metadata": {
        "id": "5HPEJ1cW4GdI"
      },
      "execution_count": 41,
      "outputs": []
    },
    {
      "cell_type": "code",
      "source": [
        "xb"
      ],
      "metadata": {
        "colab": {
          "base_uri": "https://localhost:8080/"
        },
        "id": "GfMsKUzb4MhX",
        "outputId": "b3814474-7442-4fc8-e120-10ce9847950e"
      },
      "execution_count": 42,
      "outputs": [
        {
          "output_type": "execute_result",
          "data": {
            "text/plain": [
              "tensor([[ 6,  1, 61, 43, 43, 54, 47, 52],\n",
              "        [ 0, 18, 50, 53, 61, 43, 56,  1],\n",
              "        [54, 43, 39, 49, 57,  8,  0,  0],\n",
              "        [54, 39, 56, 58, 50, 63,  1, 58]])"
            ]
          },
          "metadata": {},
          "execution_count": 42
        }
      ]
    },
    {
      "cell_type": "code",
      "source": [
        "yb"
      ],
      "metadata": {
        "colab": {
          "base_uri": "https://localhost:8080/"
        },
        "id": "T8G_ie0u4ND8",
        "outputId": "6481c473-2cd6-464f-d4a7-7bf33ed472af"
      },
      "execution_count": 43,
      "outputs": [
        {
          "output_type": "execute_result",
          "data": {
            "text/plain": [
              "tensor([[ 1, 61, 43, 43, 54, 47, 52, 45],\n",
              "        [18, 50, 53, 61, 43, 56,  1, 39],\n",
              "        [43, 39, 49, 57,  8,  0,  0, 20],\n",
              "        [39, 56, 58, 50, 63,  1, 58, 46]])"
            ]
          },
          "metadata": {},
          "execution_count": 43
        }
      ]
    },
    {
      "cell_type": "code",
      "source": [
        "for b in range(batch_size): # batch dimension\n",
        "    for t in range(block_size): # time dimension\n",
        "        context = xb[b, :t+1]\n",
        "        target = yb[b,t]\n",
        "        print(f\"when input is {context.tolist()} the target: {target}\")\n",
        "    print()"
      ],
      "metadata": {
        "colab": {
          "base_uri": "https://localhost:8080/"
        },
        "id": "hzZkWCaT4Otr",
        "outputId": "a99887d7-4ab6-467d-c928-3a0c31a4faa4"
      },
      "execution_count": 26,
      "outputs": [
        {
          "output_type": "stream",
          "name": "stdout",
          "text": [
            "when input is [24] the target: 43\n",
            "when input is [24, 43] the target: 58\n",
            "when input is [24, 43, 58] the target: 5\n",
            "when input is [24, 43, 58, 5] the target: 57\n",
            "when input is [24, 43, 58, 5, 57] the target: 1\n",
            "when input is [24, 43, 58, 5, 57, 1] the target: 46\n",
            "when input is [24, 43, 58, 5, 57, 1, 46] the target: 43\n",
            "when input is [24, 43, 58, 5, 57, 1, 46, 43] the target: 39\n",
            "\n",
            "when input is [44] the target: 53\n",
            "when input is [44, 53] the target: 56\n",
            "when input is [44, 53, 56] the target: 1\n",
            "when input is [44, 53, 56, 1] the target: 58\n",
            "when input is [44, 53, 56, 1, 58] the target: 46\n",
            "when input is [44, 53, 56, 1, 58, 46] the target: 39\n",
            "when input is [44, 53, 56, 1, 58, 46, 39] the target: 58\n",
            "when input is [44, 53, 56, 1, 58, 46, 39, 58] the target: 1\n",
            "\n",
            "when input is [52] the target: 58\n",
            "when input is [52, 58] the target: 1\n",
            "when input is [52, 58, 1] the target: 58\n",
            "when input is [52, 58, 1, 58] the target: 46\n",
            "when input is [52, 58, 1, 58, 46] the target: 39\n",
            "when input is [52, 58, 1, 58, 46, 39] the target: 58\n",
            "when input is [52, 58, 1, 58, 46, 39, 58] the target: 1\n",
            "when input is [52, 58, 1, 58, 46, 39, 58, 1] the target: 46\n",
            "\n",
            "when input is [25] the target: 17\n",
            "when input is [25, 17] the target: 27\n",
            "when input is [25, 17, 27] the target: 10\n",
            "when input is [25, 17, 27, 10] the target: 0\n",
            "when input is [25, 17, 27, 10, 0] the target: 21\n",
            "when input is [25, 17, 27, 10, 0, 21] the target: 1\n",
            "when input is [25, 17, 27, 10, 0, 21, 1] the target: 54\n",
            "when input is [25, 17, 27, 10, 0, 21, 1, 54] the target: 39\n",
            "\n"
          ]
        }
      ]
    },
    {
      "cell_type": "markdown",
      "source": [
        "## Build Bigram Language Model"
      ],
      "metadata": {
        "id": "SbcqnkQ16V66"
      }
    },
    {
      "cell_type": "markdown",
      "source": [
        "The Bigram Language model is the simplest language model we can use initially."
      ],
      "metadata": {
        "id": "2I05-MHt8Vk2"
      }
    },
    {
      "cell_type": "code",
      "source": [
        "import torch, torch.nn as nn\n",
        "from torch.nn import functional as F"
      ],
      "metadata": {
        "id": "O1kSPtuw4T8l"
      },
      "execution_count": 27,
      "outputs": []
    },
    {
      "cell_type": "code",
      "source": [
        "class BigramLanguageModel(nn.Module):\n",
        "\n",
        "  def __init__(self, vocab_size: int = 65):\n",
        "    super(BigramLanguageModel, self).__init__()\n",
        "\n",
        "    self.emb = nn.Embedding(vocab_size, vocab_size) # table of (vocab_size, vocab_size)\n",
        "\n",
        "  def forward(self, ids: torch.Tensor) -> torch.Tensor:\n",
        "    ids = torch.Tensor(ids).type(torch.long)\n",
        "\n",
        "    logits = self.emb(ids) # (B, T, C)\n",
        "    return logits.permute(0, 2, 1) # (B, C, T)\n",
        "\n",
        "  def generate(self, idx: torch.Tensor, max_tokens: int):\n",
        "\n",
        "    for _ in range(max_tokens):\n",
        "      logits = self(idx)[:, :, -1]\n",
        "\n",
        "      probs = F.softmax(logits, dim=-1)\n",
        "\n",
        "      idx_next = torch.multinomial(probs, num_samples=1)\n",
        "\n",
        "      idx = torch.cat((idx, idx_next), dim=1)\n",
        "\n",
        "    return idx"
      ],
      "metadata": {
        "id": "KYRByhBn72t9"
      },
      "execution_count": 113,
      "outputs": []
    },
    {
      "cell_type": "code",
      "source": [
        "model = BigramLanguageModel(vocab_size)"
      ],
      "metadata": {
        "id": "--a7PfQM9GGi"
      },
      "execution_count": 114,
      "outputs": []
    },
    {
      "cell_type": "code",
      "source": [
        "model"
      ],
      "metadata": {
        "colab": {
          "base_uri": "https://localhost:8080/"
        },
        "id": "TsW0zF809Ies",
        "outputId": "9fd9e985-859b-4442-eb41-2175fa580f4c"
      },
      "execution_count": 115,
      "outputs": [
        {
          "output_type": "execute_result",
          "data": {
            "text/plain": [
              "BigramLanguageModel(\n",
              "  (emb): Embedding(65, 65)\n",
              ")"
            ]
          },
          "metadata": {},
          "execution_count": 115
        }
      ]
    },
    {
      "cell_type": "code",
      "source": [
        "start_index = torch.zeros((1, 1), dtype=torch.long)"
      ],
      "metadata": {
        "id": "BeAbHQt3_5op"
      },
      "execution_count": 116,
      "outputs": []
    },
    {
      "cell_type": "code",
      "source": [
        "print(decode(model.generate(idx= start_index, max_tokens= 100)[0].tolist()))"
      ],
      "metadata": {
        "colab": {
          "base_uri": "https://localhost:8080/"
        },
        "id": "55xpXr159q2N",
        "outputId": "9326a4c4-5378-476d-84af-8c9b4fc3bd16"
      },
      "execution_count": 117,
      "outputs": [
        {
          "output_type": "stream",
          "name": "stdout",
          "text": [
            "\n",
            "skiFCrWKBuQW$vlX-MEnjOuVPzeYXgk?Q\n",
            "!mbopvBp\n",
            "'duNuQn$$ZgjFZfzzLeAS\n",
            "EPtaEv$z!RdUI\n",
            "QRlJmbm:eJcPnElOpjHUv\n"
          ]
        }
      ]
    },
    {
      "cell_type": "markdown",
      "source": [
        "As we can see, the generated output is totally random. This is because we have not trained the model yet, which is the next step."
      ],
      "metadata": {
        "id": "9FdVg_OP_HX6"
      }
    },
    {
      "cell_type": "markdown",
      "source": [
        "Now, let's train out bigram model."
      ],
      "metadata": {
        "id": "R7hkNND3mDDC"
      }
    },
    {
      "cell_type": "code",
      "source": [
        "opt = torch.optim.AdamW(model.parameters(), lr=1e-3)"
      ],
      "metadata": {
        "id": "1e0eaO8Km2Zu"
      },
      "execution_count": 118,
      "outputs": []
    },
    {
      "cell_type": "code",
      "source": [
        "get_batch(\"train\")"
      ],
      "metadata": {
        "colab": {
          "base_uri": "https://localhost:8080/"
        },
        "id": "c_GZZsZen4Y5",
        "outputId": "1262eb20-89bd-4ae9-b531-766ea29d3882"
      },
      "execution_count": 119,
      "outputs": [
        {
          "output_type": "execute_result",
          "data": {
            "text/plain": [
              "(tensor([[52, 58, 10,  1, 21,  1, 44, 53],\n",
              "         [56, 53, 51,  1, 58, 47, 51, 43],\n",
              "         [ 1, 57, 54, 43, 52, 58,  6,  1],\n",
              "         [43, 52,  1, 21,  1, 39, 51,  1]]),\n",
              " tensor([[58, 10,  1, 21,  1, 44, 53, 56],\n",
              "         [53, 51,  1, 58, 47, 51, 43,  1],\n",
              "         [57, 54, 43, 52, 58,  6,  1, 39],\n",
              "         [52,  1, 21,  1, 39, 51,  1, 39]]))"
            ]
          },
          "metadata": {},
          "execution_count": 119
        }
      ]
    },
    {
      "cell_type": "code",
      "source": [
        "next(enumerate(get_batch(\"train\")))"
      ],
      "metadata": {
        "colab": {
          "base_uri": "https://localhost:8080/"
        },
        "id": "duibXW9ZnkSK",
        "outputId": "52b6b837-b434-4c7a-d15e-bdb77eb2ce67"
      },
      "execution_count": 120,
      "outputs": [
        {
          "output_type": "execute_result",
          "data": {
            "text/plain": [
              "(0,\n",
              " tensor([[ 1, 51, 63,  1, 51, 53, 58, 46],\n",
              "         [46, 39, 52, 42, 57,  0, 20, 43],\n",
              "         [46, 43, 56, 43,  6,  1, 18, 56],\n",
              "         [ 1, 52, 39, 58, 59, 56, 39, 50]]))"
            ]
          },
          "metadata": {},
          "execution_count": 120
        }
      ]
    },
    {
      "cell_type": "code",
      "source": [
        "for epoch in range(10000):\n",
        "\n",
        "    xb, yb  = get_batch(\"train\", batch_size = 32)\n",
        "\n",
        "    logits = model(xb)\n",
        "    loss = F.cross_entropy(logits, yb)\n",
        "\n",
        "    opt.zero_grad()\n",
        "    loss.backward()\n",
        "    opt.step()\n",
        "\n",
        "print(loss.item())"
      ],
      "metadata": {
        "colab": {
          "base_uri": "https://localhost:8080/"
        },
        "id": "r64XehD6m4FD",
        "outputId": "a1f012cb-d4b9-49ac-87fe-ff655d8e9a60"
      },
      "execution_count": 121,
      "outputs": [
        {
          "output_type": "stream",
          "name": "stdout",
          "text": [
            "2.362851619720459\n"
          ]
        }
      ]
    },
    {
      "cell_type": "code",
      "source": [
        "start_index = torch.tensor([[3]], dtype=torch.long)"
      ],
      "metadata": {
        "id": "-wX551mHsozm"
      },
      "execution_count": 122,
      "outputs": []
    },
    {
      "cell_type": "code",
      "source": [
        "print(decode(model.generate(idx= start_index, max_tokens= 100)[0].tolist()))"
      ],
      "metadata": {
        "colab": {
          "base_uri": "https://localhost:8080/"
        },
        "id": "E9j1VzL_pnZ3",
        "outputId": "59699315-b8fa-4c4f-d896-970bd63b5f6f"
      },
      "execution_count": 123,
      "outputs": [
        {
          "output_type": "stream",
          "name": "stdout",
          "text": [
            "$o ngreal\n",
            "TAy ' I isis halit, tr t\n",
            "Aseathole ld whit dull alime,\n",
            "\n",
            "An foreryothetharis lld nt, mo y d \n"
          ]
        }
      ]
    },
    {
      "cell_type": "code",
      "source": [],
      "metadata": {
        "id": "1I1F3RY8rX4a"
      },
      "execution_count": 123,
      "outputs": []
    }
  ]
}